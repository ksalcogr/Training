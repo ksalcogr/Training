# Εισαγωγή βιβλιοθηκών
import pandas as pd
from sklearn.model_selection import train_test_split
from sklearn.preprocessing import StandardScaler
from sklearn.ensemble import RandomForestClassifier
from sklearn.metrics import classification_report, accuracy_score

# Φόρτωση δεδομένων
data = pd.read_csv('https://github.com/kdemertzis/EKPA/blob/main/Data/DarkNet.csv')  
# Προβολή των πρώτων γραμμών του συνόλου δεδομένων
print(data.head())  # Εκτύπωση των πρώτων γραμμών για έλεγχο

# Αφαίρεση μη χρήσιμων χαρακτηριστικών
data = data.drop(['protocol_type', 'service', 'flag'], axis=1)  # Αφαίρεση στηλών που δεν χρειάζονται

# Κωδικοποίηση κατηγορικών δεδομένων
data = pd.get_dummies(data, columns=['class'])  # Μετατροπή κατηγορικών μεταβλητών σε αριθμητικές

# Διαχωρισμός χαρακτηριστικών (X) και ετικετών (y)
X = data.drop('class_normal.', axis=1)  # Αφαίρεση της στήλης της ετικέτας από τα χαρακτηριστικά
y = data['class_normal.']  # Επιλογή της στήλης της ετικέτας

# Διαχωρισμός δεδομένων σε εκπαίδευση και δοκιμή
X_train, X_test, y_train, y_test = train_test_split(X, y, test_size=0.3, random_state=42)  # 70% εκπαίδευση, 30% δοκιμή

# Κανονικοποίηση των δεδομένων
scaler = StandardScaler()  # Δημιουργία αντικειμένου κανονικοποίησης
X_train = scaler.fit_transform(X_train)  # Κανονικοποίηση δεδομένων εκπαίδευσης
X_test = scaler.transform(X_test)  # Κανονικοποίηση δεδομένων δοκιμής

# Δημιουργία και εκπαίδευση του μοντέλου
model = RandomForestClassifier(n_estimators=100, random_state=42)  # Ορισμός του ταξινομητή
model.fit(X_train, y_train)  # Εκπαίδευση του μοντέλου

# Πρόβλεψη και αξιολόγηση
y_pred = model.predict(X_test)  # Πρόβλεψη με το σύνολο δοκιμής
print(classification_report(y_test, y_pred))  # Εκτύπωση αναφοράς ταξινόμησης
print('Ακρίβεια:', accuracy_score(y_test, y_pred))  # Εκτύπωση ακρίβειας

# Υλοποίηση συνάρτησης πρόβλεψης εισβολών
def predict_intrusion(data):
    data = scaler.transform([data])  # Κανονικοποίηση δεδομένων εισόδου
    prediction = model.predict(data)  # Πρόβλεψη με το μοντέλο
    attack_type = 'Normal' if prediction == 1 else 'Intrusion'  # Καθορισμός τύπου επίθεσης
    return attack_type

# Παράδειγμα χρήσης του IPS
predicted_attack = predict_intrusion(new_data)  # Πρόβλεψη τύπου επίθεσης
print(f'Predicted attack type: {predicted_attack}')  # Εκτύπωση του τύπου επίθεσης που προβλέφθηκε